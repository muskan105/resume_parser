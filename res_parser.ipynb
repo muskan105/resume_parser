{
  "nbformat": 4,
  "nbformat_minor": 0,
  "metadata": {
    "colab": {
      "provenance": [],
      "authorship_tag": "ABX9TyNZgaFc74ug+odyJRPnh6ML",
      "include_colab_link": true
    },
    "kernelspec": {
      "name": "python3",
      "display_name": "Python 3"
    },
    "language_info": {
      "name": "python"
    }
  },
  "cells": [
    {
      "cell_type": "markdown",
      "metadata": {
        "id": "view-in-github",
        "colab_type": "text"
      },
      "source": [
        "<a href=\"https://colab.research.google.com/github/muskan105/resume_parser/blob/main/res_parser.ipynb\" target=\"_parent\"><img src=\"https://colab.research.google.com/assets/colab-badge.svg\" alt=\"Open In Colab\"/></a>"
      ]
    },
    {
      "cell_type": "code",
      "source": [
        "import spacy"
      ],
      "metadata": {
        "colab": {
          "base_uri": "https://localhost:8080/"
        },
        "id": "Gfvk7eStBLdJ",
        "outputId": "a218a863-a803-4afa-9356-f29509c9b51e"
      },
      "execution_count": 1,
      "outputs": [
        {
          "output_type": "stream",
          "name": "stderr",
          "text": [
            "/usr/local/lib/python3.8/dist-packages/torch/cuda/__init__.py:497: UserWarning: Can't initialize NVML\n",
            "  warnings.warn(\"Can't initialize NVML\")\n"
          ]
        }
      ]
    },
    {
      "cell_type": "code",
      "source": [
        "def getContent(text):\n",
        "  nlp = spacy.load(\"en_core_web_sm\")\n",
        "  doc = nlp(text)\n",
        "  # print(doc)\n",
        "  emails = re.findall(r'\\b[A-Za-z0-9._%+-]+@[A-Za-z0-9.-]+\\.[A-Z|a-z]{2,}\\b', text)\n",
        "  # List type to string\n",
        "  emails = ' '.join(map(str, emails))\n",
        "  \n",
        "  name = ''\n",
        "  date = ''\n",
        "  mob = ''\n",
        "  gaurd = ''\n",
        "  for ent in doc.ents:\n",
        "    #print(ent.text,ent.label_)\n",
        "    if ent.label_ == 'ORG'and len(name) == 0:\n",
        "      name = ent.text\n",
        "    if ent.label_ == 'DATE'and len(date) == 0:\n",
        "      date = ent.text\n",
        "    if ent.label_ == 'CARDINAL'and len(ent.text) == 10:\n",
        "      mob = ent.text\n",
        "    if ent.label_ == 'PERSON' and len(gaurd) == 0:\n",
        "      gaurd = ent.text\n",
        "  return name,date,mob,emails,gaurd"
      ],
      "metadata": {
        "id": "38Q5JPRsAS4A"
      },
      "execution_count": 2,
      "outputs": []
    },
    {
      "cell_type": "code",
      "source": [
        "from tika import parser\n",
        "import re\n",
        "pdf_path = '/content/Mus.docx'\n",
        "\n",
        "# Parse PDF file and extract plain text content\n",
        "parsed = parser.from_file(pdf_path)\n",
        "text = parsed['content']\n",
        "# Removing the extra empty lines\n",
        "text = text.strip()\n",
        "# Removing the extra lines in between the text\n",
        "text = re.sub(r'\\n\\s+', '\\n', text)\n",
        "#Remving the extra space before and after '\\n'\n",
        "text = re.sub(r'\\n+', '\\n', text)\n",
        "# print(text)\n",
        "name, dob, mob,emails, gaurd = getContent(text)\n",
        "print(f\"Name = {name}\\nDOB = {dob}\\nMOB = {mob}\\nEmails = {emails}\\nGaurdians = {gaurd}\")"
      ],
      "metadata": {
        "colab": {
          "base_uri": "https://localhost:8080/"
        },
        "id": "z9XaWVOBAaSY",
        "outputId": "52ddae3b-897b-4444-e7d7-aa3210be704e"
      },
      "execution_count": 3,
      "outputs": [
        {
          "output_type": "stream",
          "name": "stdout",
          "text": [
            "Name = MuskanKumari\n",
            "DOB = 12/08/2001\n",
            "MOB = 8102519239\n",
            "Emails = muskansingh20217@gmail.com\n",
            "Gaurdians = Vinay Kumar\n"
          ]
        }
      ]
    }
  ]
}